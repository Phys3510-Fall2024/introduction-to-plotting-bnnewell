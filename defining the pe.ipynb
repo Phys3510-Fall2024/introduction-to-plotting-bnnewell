{
 "cells": [
  {
   "cell_type": "markdown",
   "id": "f75b36e8-2a94-48e0-ab36-603329d42946",
   "metadata": {},
   "source": [
    "the plan\n",
    "1.bring in our BOI numpy, matplotlib, and ipywigets for interaction\n",
    "2. define the potental energy\n",
    "3. define what q1 and q2 are\n",
    "plot with contourf?"
   ]
  },
  {
   "cell_type": "code",
   "execution_count": 2,
   "id": "590b3647-cd2a-4aea-8914-bea04d07da20",
   "metadata": {},
   "outputs": [],
   "source": [
    "import numpy as np\n",
    "import matplotlib.pyplot as plt\n",
    "import ipywidgets as widgets"
   ]
  },
  {
   "cell_type": "code",
   "execution_count": 7,
   "id": "2727cb23-1535-4fad-b537-06858ec92073",
   "metadata": {},
   "outputs": [
    {
     "data": {
      "text/plain": [
       "1.0"
      ]
     },
     "execution_count": 7,
     "metadata": {},
     "output_type": "execute_result"
    }
   ],
   "source": [
    "#define potental energy\n",
    "def potential_energy(q1,q2,k1=1.0,k2=1.0,c=0):\n",
    "    return 0.5*k1*q1**2 + .5*k2*q2**2 + c*q2*q1**2\n",
    "potential_energy(1,1)\n"
   ]
  },
  {
   "cell_type": "code",
   "execution_count": null,
   "id": "fe44bee2-f2eb-4561-9ddd-e4337668fa70",
   "metadata": {},
   "outputs": [],
   "source": []
  },
  {
   "cell_type": "code",
   "execution_count": null,
   "id": "4c50a36e-e49c-44f0-8c82-49bd7a6f7da5",
   "metadata": {},
   "outputs": [],
   "source": [
    "def plot_potential(k1=1 , k2=1, c=0, n_points=50):\n",
    "    q1 = np.linspace(-1,1,n_points)\n",
    "    q2 = q1\n",
    "    "
   ]
  },
  {
   "cell_type": "code",
   "execution_count": null,
   "id": "408f6a35-a1d2-4f6a-8545-940d9b943fe4",
   "metadata": {},
   "outputs": [],
   "source": [
    "#float slider and int slider in wiggets \n",
    "#interactive plot (likly will not work till you write the rest of the code)\n",
    "\n",
    "# widgets.interact.FloatSlider(plot potental,"
   ]
  }
 ],
 "metadata": {
  "kernelspec": {
   "display_name": "Python 3 (ipykernel)",
   "language": "python",
   "name": "python3"
  },
  "language_info": {
   "codemirror_mode": {
    "name": "ipython",
    "version": 3
   },
   "file_extension": ".py",
   "mimetype": "text/x-python",
   "name": "python",
   "nbconvert_exporter": "python",
   "pygments_lexer": "ipython3",
   "version": "3.9.19"
  }
 },
 "nbformat": 4,
 "nbformat_minor": 5
}
